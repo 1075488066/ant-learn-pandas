{
 "cells": [
  {
   "cell_type": "markdown",
   "metadata": {},
   "source": [
    "## Pandas实现数据归一化\n",
    "\n",
    "目标知识：怎样对groupby之后的每个分组应用apply函数？\n",
    "\n",
    "***归一化做了什么：***    \n",
    "把数字映射到[0,1]范围之间，相当于数值的缩放，不改变原始数据的数值排序\n",
    "\n",
    "***归一化的公式：***  \n",
    "<div style=\"text-align:left; width:300px;\"><img src=\"./other_files/Normalization-Formula.jpg\" style=\"\"/></div>\n",
    "\n",
    "***归一化的意义：***  \n",
    "* 能够比较：经过归一化处理后，各指标处于同一数量级，以便进行综合对比评价；\n",
    "* 更快收敛：使得机器学习模型更快收敛，学到正确参数 \n",
    "\n",
    "\n",
    "***本次演示：***\n",
    "1. 数值列全局的归一化\n",
    "2. 数据groupby分组之后归一化"
   ]
  },
  {
   "cell_type": "markdown",
   "metadata": {},
   "source": [
    "### 1、数值列全局的归一化\n",
    "\n",
    "实例：将4家互联网股票归一化"
   ]
  },
  {
   "cell_type": "code",
   "execution_count": 20,
   "metadata": {},
   "outputs": [
    {
     "data": {
      "text/html": [
       "<div>\n",
       "<style scoped>\n",
       "    .dataframe tbody tr th:only-of-type {\n",
       "        vertical-align: middle;\n",
       "    }\n",
       "\n",
       "    .dataframe tbody tr th {\n",
       "        vertical-align: top;\n",
       "    }\n",
       "\n",
       "    .dataframe thead th {\n",
       "        text-align: right;\n",
       "    }\n",
       "</style>\n",
       "<table border=\"1\" class=\"dataframe\">\n",
       "  <thead>\n",
       "    <tr style=\"text-align: right;\">\n",
       "      <th></th>\n",
       "      <th>日期</th>\n",
       "      <th>公司</th>\n",
       "      <th>收盘</th>\n",
       "      <th>开盘</th>\n",
       "      <th>高</th>\n",
       "      <th>低</th>\n",
       "      <th>交易量</th>\n",
       "      <th>涨跌幅</th>\n",
       "    </tr>\n",
       "  </thead>\n",
       "  <tbody>\n",
       "    <tr>\n",
       "      <td>0</td>\n",
       "      <td>2019-10-03</td>\n",
       "      <td>BIDU</td>\n",
       "      <td>104.32</td>\n",
       "      <td>102.35</td>\n",
       "      <td>104.73</td>\n",
       "      <td>101.15</td>\n",
       "      <td>2.24</td>\n",
       "      <td>0.02</td>\n",
       "    </tr>\n",
       "    <tr>\n",
       "      <td>1</td>\n",
       "      <td>2019-10-02</td>\n",
       "      <td>BIDU</td>\n",
       "      <td>102.62</td>\n",
       "      <td>100.85</td>\n",
       "      <td>103.24</td>\n",
       "      <td>99.50</td>\n",
       "      <td>2.69</td>\n",
       "      <td>0.01</td>\n",
       "    </tr>\n",
       "    <tr>\n",
       "      <td>2</td>\n",
       "      <td>2019-10-01</td>\n",
       "      <td>BIDU</td>\n",
       "      <td>102.00</td>\n",
       "      <td>102.80</td>\n",
       "      <td>103.26</td>\n",
       "      <td>101.00</td>\n",
       "      <td>1.78</td>\n",
       "      <td>-0.01</td>\n",
       "    </tr>\n",
       "    <tr>\n",
       "      <td>3</td>\n",
       "      <td>2019-10-03</td>\n",
       "      <td>BABA</td>\n",
       "      <td>169.48</td>\n",
       "      <td>166.65</td>\n",
       "      <td>170.18</td>\n",
       "      <td>165.00</td>\n",
       "      <td>10.39</td>\n",
       "      <td>0.02</td>\n",
       "    </tr>\n",
       "    <tr>\n",
       "      <td>4</td>\n",
       "      <td>2019-10-02</td>\n",
       "      <td>BABA</td>\n",
       "      <td>165.77</td>\n",
       "      <td>162.82</td>\n",
       "      <td>166.88</td>\n",
       "      <td>161.90</td>\n",
       "      <td>11.60</td>\n",
       "      <td>0.00</td>\n",
       "    </tr>\n",
       "  </tbody>\n",
       "</table>\n",
       "</div>"
      ],
      "text/plain": [
       "           日期    公司      收盘      开盘       高       低    交易量   涨跌幅\n",
       "0  2019-10-03  BIDU  104.32  102.35  104.73  101.15   2.24  0.02\n",
       "1  2019-10-02  BIDU  102.62  100.85  103.24   99.50   2.69  0.01\n",
       "2  2019-10-01  BIDU  102.00  102.80  103.26  101.00   1.78 -0.01\n",
       "3  2019-10-03  BABA  169.48  166.65  170.18  165.00  10.39  0.02\n",
       "4  2019-10-02  BABA  165.77  162.82  166.88  161.90  11.60  0.00"
      ]
     },
     "execution_count": 20,
     "metadata": {},
     "output_type": "execute_result"
    }
   ],
   "source": [
    "import pandas as pd\n",
    "stocks = pd.read_excel('./datas/stocks/互联网公司股票.xlsx')\n",
    "stocks.head()"
   ]
  },
  {
   "cell_type": "markdown",
   "metadata": {},
   "source": [
    "***单列数据的归一化***"
   ]
  },
  {
   "cell_type": "code",
   "execution_count": 21,
   "metadata": {},
   "outputs": [
    {
     "data": {
      "text/plain": [
       "169.48"
      ]
     },
     "execution_count": 21,
     "metadata": {},
     "output_type": "execute_result"
    }
   ],
   "source": [
    "max_value = stocks[\"收盘\"].max()\n",
    "max_value"
   ]
  },
  {
   "cell_type": "code",
   "execution_count": 22,
   "metadata": {},
   "outputs": [
    {
     "data": {
      "text/plain": [
       "15.72"
      ]
     },
     "execution_count": 22,
     "metadata": {},
     "output_type": "execute_result"
    }
   ],
   "source": [
    "min_value = stocks[\"收盘\"].min()\n",
    "min_value"
   ]
  },
  {
   "cell_type": "code",
   "execution_count": 23,
   "metadata": {},
   "outputs": [
    {
     "data": {
      "text/plain": [
       "0     0.576223\n",
       "1     0.565166\n",
       "2     0.561134\n",
       "3     1.000000\n",
       "4     0.975871\n",
       "5     0.971839\n",
       "6     0.002211\n",
       "7     0.000000\n",
       "8     0.001301\n",
       "9     0.085068\n",
       "10    0.080255\n",
       "11    0.081100\n",
       "Name: 收盘, dtype: float64"
      ]
     },
     "execution_count": 23,
     "metadata": {},
     "output_type": "execute_result"
    }
   ],
   "source": [
    "stocks[\"收盘\"].apply(lambda x:(x-min_value)/(max_value-min_value))"
   ]
  },
  {
   "cell_type": "markdown",
   "metadata": {},
   "source": [
    "***多列数据的归一化***"
   ]
  },
  {
   "cell_type": "code",
   "execution_count": 24,
   "metadata": {},
   "outputs": [],
   "source": [
    "for column_name in ('收盘', '开盘', '高', '低', '交易量', '涨跌幅'):\n",
    "    min_value = stocks[column_name].min()\n",
    "    max_value = stocks[column_name].max()\n",
    "    stocks[column_name] = stocks[column_name].apply(lambda x:(x-min_value)/(max_value-min_value))"
   ]
  },
  {
   "cell_type": "code",
   "execution_count": 25,
   "metadata": {},
   "outputs": [
    {
     "data": {
      "text/html": [
       "<div>\n",
       "<style scoped>\n",
       "    .dataframe tbody tr th:only-of-type {\n",
       "        vertical-align: middle;\n",
       "    }\n",
       "\n",
       "    .dataframe tbody tr th {\n",
       "        vertical-align: top;\n",
       "    }\n",
       "\n",
       "    .dataframe thead th {\n",
       "        text-align: right;\n",
       "    }\n",
       "</style>\n",
       "<table border=\"1\" class=\"dataframe\">\n",
       "  <thead>\n",
       "    <tr style=\"text-align: right;\">\n",
       "      <th></th>\n",
       "      <th>日期</th>\n",
       "      <th>公司</th>\n",
       "      <th>收盘</th>\n",
       "      <th>开盘</th>\n",
       "      <th>高</th>\n",
       "      <th>低</th>\n",
       "      <th>交易量</th>\n",
       "      <th>涨跌幅</th>\n",
       "    </tr>\n",
       "  </thead>\n",
       "  <tbody>\n",
       "    <tr>\n",
       "      <td>0</td>\n",
       "      <td>2019-10-03</td>\n",
       "      <td>BIDU</td>\n",
       "      <td>0.576223</td>\n",
       "      <td>0.568877</td>\n",
       "      <td>0.575854</td>\n",
       "      <td>0.573993</td>\n",
       "      <td>0.037067</td>\n",
       "      <td>0.75</td>\n",
       "    </tr>\n",
       "    <tr>\n",
       "      <td>1</td>\n",
       "      <td>2019-10-02</td>\n",
       "      <td>BIDU</td>\n",
       "      <td>0.565166</td>\n",
       "      <td>0.559028</td>\n",
       "      <td>0.566198</td>\n",
       "      <td>0.562984</td>\n",
       "      <td>0.073328</td>\n",
       "      <td>0.50</td>\n",
       "    </tr>\n",
       "    <tr>\n",
       "      <td>2</td>\n",
       "      <td>2019-10-01</td>\n",
       "      <td>BIDU</td>\n",
       "      <td>0.561134</td>\n",
       "      <td>0.571832</td>\n",
       "      <td>0.566328</td>\n",
       "      <td>0.572992</td>\n",
       "      <td>0.000000</td>\n",
       "      <td>0.00</td>\n",
       "    </tr>\n",
       "    <tr>\n",
       "      <td>3</td>\n",
       "      <td>2019-10-03</td>\n",
       "      <td>BABA</td>\n",
       "      <td>1.000000</td>\n",
       "      <td>0.991070</td>\n",
       "      <td>1.000000</td>\n",
       "      <td>1.000000</td>\n",
       "      <td>0.693795</td>\n",
       "      <td>0.75</td>\n",
       "    </tr>\n",
       "    <tr>\n",
       "      <td>4</td>\n",
       "      <td>2019-10-02</td>\n",
       "      <td>BABA</td>\n",
       "      <td>0.975871</td>\n",
       "      <td>0.965923</td>\n",
       "      <td>0.978614</td>\n",
       "      <td>0.979317</td>\n",
       "      <td>0.791297</td>\n",
       "      <td>0.25</td>\n",
       "    </tr>\n",
       "  </tbody>\n",
       "</table>\n",
       "</div>"
      ],
      "text/plain": [
       "           日期    公司        收盘        开盘         高         低       交易量   涨跌幅\n",
       "0  2019-10-03  BIDU  0.576223  0.568877  0.575854  0.573993  0.037067  0.75\n",
       "1  2019-10-02  BIDU  0.565166  0.559028  0.566198  0.562984  0.073328  0.50\n",
       "2  2019-10-01  BIDU  0.561134  0.571832  0.566328  0.572992  0.000000  0.00\n",
       "3  2019-10-03  BABA  1.000000  0.991070  1.000000  1.000000  0.693795  0.75\n",
       "4  2019-10-02  BABA  0.975871  0.965923  0.978614  0.979317  0.791297  0.25"
      ]
     },
     "execution_count": 25,
     "metadata": {},
     "output_type": "execute_result"
    }
   ],
   "source": [
    "stocks.head()"
   ]
  },
  {
   "cell_type": "markdown",
   "metadata": {},
   "source": [
    "正因为有了归一化：  \n",
    "收盘、开盘、高、低这四列的数值（原来很大），才能够和交易量、涨跌幅（原来很小）作综合比较"
   ]
  },
  {
   "cell_type": "markdown",
   "metadata": {},
   "source": [
    "### 2、数据groupby分组之后归一化"
   ]
  },
  {
   "cell_type": "markdown",
   "metadata": {},
   "source": [
    "#### 知识：Pandas的GroupBy遵从split、apply、combine模式\n",
    "\n",
    "<div style=\"text-align:left; width:500px;\"><img src=\"./other_files/pandas-split-apply-combine.png\" style=\"\"/></div>\n",
    "\n",
    "\n",
    "#### 知识：怎样先groupby后对每个分组apply函数？\n",
    "GroupBy.apply(function)  \n",
    "* function的第一个参数是dataframe\n",
    "* function的返回结果，可是dataframe、series、单个值\n",
    "\n",
    "这里的split指的是pandas的groupby，我们自己实现apply函数，apply返回的结果由pandas进行combine得到结果"
   ]
  },
  {
   "cell_type": "markdown",
   "metadata": {},
   "source": [
    "#### 演示：用户对电影评分的归一化\n",
    "\n",
    "每个用户的评分不同，有的乐观派评分高，有的悲观派评分低，按用户做归一化"
   ]
  },
  {
   "cell_type": "code",
   "execution_count": 8,
   "metadata": {},
   "outputs": [
    {
     "data": {
      "text/html": [
       "<div>\n",
       "<style scoped>\n",
       "    .dataframe tbody tr th:only-of-type {\n",
       "        vertical-align: middle;\n",
       "    }\n",
       "\n",
       "    .dataframe tbody tr th {\n",
       "        vertical-align: top;\n",
       "    }\n",
       "\n",
       "    .dataframe thead th {\n",
       "        text-align: right;\n",
       "    }\n",
       "</style>\n",
       "<table border=\"1\" class=\"dataframe\">\n",
       "  <thead>\n",
       "    <tr style=\"text-align: right;\">\n",
       "      <th></th>\n",
       "      <th>UserID</th>\n",
       "      <th>MovieID</th>\n",
       "      <th>Rating</th>\n",
       "      <th>Timestamp</th>\n",
       "    </tr>\n",
       "  </thead>\n",
       "  <tbody>\n",
       "    <tr>\n",
       "      <td>0</td>\n",
       "      <td>1</td>\n",
       "      <td>1193</td>\n",
       "      <td>5</td>\n",
       "      <td>978300760</td>\n",
       "    </tr>\n",
       "    <tr>\n",
       "      <td>1</td>\n",
       "      <td>1</td>\n",
       "      <td>661</td>\n",
       "      <td>3</td>\n",
       "      <td>978302109</td>\n",
       "    </tr>\n",
       "    <tr>\n",
       "      <td>2</td>\n",
       "      <td>1</td>\n",
       "      <td>914</td>\n",
       "      <td>3</td>\n",
       "      <td>978301968</td>\n",
       "    </tr>\n",
       "    <tr>\n",
       "      <td>3</td>\n",
       "      <td>1</td>\n",
       "      <td>3408</td>\n",
       "      <td>4</td>\n",
       "      <td>978300275</td>\n",
       "    </tr>\n",
       "    <tr>\n",
       "      <td>4</td>\n",
       "      <td>1</td>\n",
       "      <td>2355</td>\n",
       "      <td>5</td>\n",
       "      <td>978824291</td>\n",
       "    </tr>\n",
       "  </tbody>\n",
       "</table>\n",
       "</div>"
      ],
      "text/plain": [
       "   UserID  MovieID  Rating  Timestamp\n",
       "0       1     1193       5  978300760\n",
       "1       1      661       3  978302109\n",
       "2       1      914       3  978301968\n",
       "3       1     3408       4  978300275\n",
       "4       1     2355       5  978824291"
      ]
     },
     "execution_count": 8,
     "metadata": {},
     "output_type": "execute_result"
    }
   ],
   "source": [
    "ratings = pd.read_csv(\n",
    "    \"./datas/movielens-1m/ratings.dat\", \n",
    "    sep=\"::\",\n",
    "    engine='python', \n",
    "    names=\"UserID::MovieID::Rating::Timestamp\".split(\"::\")\n",
    ")\n",
    "ratings.head()"
   ]
  },
  {
   "cell_type": "code",
   "execution_count": 28,
   "metadata": {},
   "outputs": [],
   "source": [
    "# 实现按照用户ID分组，然后对其中一列归一化\n",
    "def ratings_norm(df):\n",
    "    \"\"\"\n",
    "    @param df：每个分组的dataframe\n",
    "    \"\"\"\n",
    "    min_value = df[\"Rating\"].min()\n",
    "    max_value = df[\"Rating\"].max()\n",
    "    df[\"Rating_norm\"] = df[\"Rating\"].apply(\n",
    "        lambda x:(x-min_value)/(max_value-min_value))\n",
    "    return df\n",
    "\n",
    "ratings = ratings.groupby(\"UserID\").apply(ratings_norm)"
   ]
  },
  {
   "cell_type": "code",
   "execution_count": 30,
   "metadata": {},
   "outputs": [
    {
     "data": {
      "text/html": [
       "<div>\n",
       "<style scoped>\n",
       "    .dataframe tbody tr th:only-of-type {\n",
       "        vertical-align: middle;\n",
       "    }\n",
       "\n",
       "    .dataframe tbody tr th {\n",
       "        vertical-align: top;\n",
       "    }\n",
       "\n",
       "    .dataframe thead th {\n",
       "        text-align: right;\n",
       "    }\n",
       "</style>\n",
       "<table border=\"1\" class=\"dataframe\">\n",
       "  <thead>\n",
       "    <tr style=\"text-align: right;\">\n",
       "      <th></th>\n",
       "      <th>UserID</th>\n",
       "      <th>MovieID</th>\n",
       "      <th>Rating</th>\n",
       "      <th>Timestamp</th>\n",
       "      <th>Rating_norm</th>\n",
       "    </tr>\n",
       "  </thead>\n",
       "  <tbody>\n",
       "    <tr>\n",
       "      <td>0</td>\n",
       "      <td>1</td>\n",
       "      <td>1193</td>\n",
       "      <td>5</td>\n",
       "      <td>978300760</td>\n",
       "      <td>1.0</td>\n",
       "    </tr>\n",
       "    <tr>\n",
       "      <td>1</td>\n",
       "      <td>1</td>\n",
       "      <td>661</td>\n",
       "      <td>3</td>\n",
       "      <td>978302109</td>\n",
       "      <td>0.0</td>\n",
       "    </tr>\n",
       "    <tr>\n",
       "      <td>2</td>\n",
       "      <td>1</td>\n",
       "      <td>914</td>\n",
       "      <td>3</td>\n",
       "      <td>978301968</td>\n",
       "      <td>0.0</td>\n",
       "    </tr>\n",
       "    <tr>\n",
       "      <td>3</td>\n",
       "      <td>1</td>\n",
       "      <td>3408</td>\n",
       "      <td>4</td>\n",
       "      <td>978300275</td>\n",
       "      <td>0.5</td>\n",
       "    </tr>\n",
       "    <tr>\n",
       "      <td>4</td>\n",
       "      <td>1</td>\n",
       "      <td>2355</td>\n",
       "      <td>5</td>\n",
       "      <td>978824291</td>\n",
       "      <td>1.0</td>\n",
       "    </tr>\n",
       "  </tbody>\n",
       "</table>\n",
       "</div>"
      ],
      "text/plain": [
       "   UserID  MovieID  Rating  Timestamp  Rating_norm\n",
       "0       1     1193       5  978300760          1.0\n",
       "1       1      661       3  978302109          0.0\n",
       "2       1      914       3  978301968          0.0\n",
       "3       1     3408       4  978300275          0.5\n",
       "4       1     2355       5  978824291          1.0"
      ]
     },
     "execution_count": 30,
     "metadata": {},
     "output_type": "execute_result"
    }
   ],
   "source": [
    "ratings[ratings[\"UserID\"]==1].head()"
   ]
  },
  {
   "cell_type": "markdown",
   "metadata": {},
   "source": [
    "可以看到UserID==1这个用户，Rating==3是他的最低分，是个乐观派，我们归一化到0分；"
   ]
  },
  {
   "cell_type": "code",
   "execution_count": null,
   "metadata": {},
   "outputs": [],
   "source": []
  }
 ],
 "metadata": {
  "kernelspec": {
   "display_name": "Python 3",
   "language": "python",
   "name": "python3"
  },
  "language_info": {
   "codemirror_mode": {
    "name": "ipython",
    "version": 3
   },
   "file_extension": ".py",
   "mimetype": "text/x-python",
   "name": "python",
   "nbconvert_exporter": "python",
   "pygments_lexer": "ipython3",
   "version": "3.7.4"
  }
 },
 "nbformat": 4,
 "nbformat_minor": 2
}
