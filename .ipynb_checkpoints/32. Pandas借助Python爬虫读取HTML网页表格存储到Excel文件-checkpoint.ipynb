{
 "cells": [
  {
   "cell_type": "markdown",
   "metadata": {},
   "source": [
    "## Pandas借助Python爬虫读取HTML网页表格存储到Excel文件\n",
    "\n",
    "背景：\n",
    "* 网易有道词典可以用于英语单词查询，可以将查询的单词加入到单词本;\n",
    "* 当前没有导出全部单词列表的功能。为了复习方便，可以爬取所有的单词列表，存入Excel方便复习\n",
    "\n",
    "涉及技术：\n",
    "* Pandas：Python语言最强大的数据处理和数据分析库\n",
    "* Python爬虫：可以将网页下载下来然后解析，使用requests库实现，需要绕过登录验证\n"
   ]
  },
  {
   "cell_type": "code",
   "execution_count": null,
   "metadata": {},
   "outputs": [],
   "source": [
    "import requests\n",
    "import requests.cookies\n",
    "import json\n",
    "import time\n",
    "import pandas as pd"
   ]
  },
  {
   "cell_type": "markdown",
   "metadata": {},
   "source": [
    "### 1. 登录网易有道词典的PC版，微信扫码登录，复制cookies到文件\n",
    "\n",
    "* PC版地址：http://dict.youdao.com/  \n",
    "* Chrome插件可以复制Cookies为Json格式：http://www.editthiscookie.com/"
   ]
  },
  {
   "cell_type": "code",
   "execution_count": null,
   "metadata": {},
   "outputs": [],
   "source": [
    "cookie_jar = requests.cookies.RequestsCookieJar()\n",
    "\n",
    "with open(\"32. cookie.txt\") as fin:\n",
    "    cookiejson = json.loads(fin.read())\n",
    "    for cookie in cookiejson:\n",
    "        cookie_jar.set(\n",
    "            name=cookie[\"name\"],\n",
    "            value=cookie[\"value\"],\n",
    "            domain=cookie[\"domain\"],\n",
    "            path=cookie[\"path\"]\n",
    "        )"
   ]
  },
  {
   "cell_type": "markdown",
   "metadata": {},
   "source": [
    "### 2. 将html都下载下来存入列表"
   ]
  },
  {
   "cell_type": "code",
   "execution_count": null,
   "metadata": {},
   "outputs": [],
   "source": [
    "htmls = []\n",
    "url = \"http://dict.youdao.com/wordbook/wordlist?p={idx}&tags=\"\n",
    "for idx in range(6):\n",
    "    time.sleep(1)\n",
    "    print(\"**爬数据：第%d页\" % idx)\n",
    "    r = requests.get(url.format(idx=idx), cookies=cookie_jar)\n",
    "    htmls.append(r.text)"
   ]
  },
  {
   "cell_type": "code",
   "execution_count": null,
   "metadata": {},
   "outputs": [],
   "source": [
    "htmls[0]"
   ]
  },
  {
   "cell_type": "markdown",
   "metadata": {},
   "source": [
    "### 3. 使用Pandas解析网页中的表格"
   ]
  },
  {
   "cell_type": "code",
   "execution_count": null,
   "metadata": {},
   "outputs": [],
   "source": [
    "df = pd.read_html(htmls[0])"
   ]
  },
  {
   "cell_type": "code",
   "execution_count": null,
   "metadata": {},
   "outputs": [],
   "source": [
    "# df是个列表，查看df[0]和df[1]\n",
    "df[1].head(3)"
   ]
  },
  {
   "cell_type": "code",
   "execution_count": null,
   "metadata": {},
   "outputs": [],
   "source": [
    "columns = df[0].columns\n",
    "columns"
   ]
  },
  {
   "cell_type": "code",
   "execution_count": null,
   "metadata": {},
   "outputs": [],
   "source": [
    "df_cont = df[1]"
   ]
  },
  {
   "cell_type": "code",
   "execution_count": null,
   "metadata": {},
   "outputs": [],
   "source": [
    "df_cont.columns = df[0].columns"
   ]
  },
  {
   "cell_type": "code",
   "execution_count": null,
   "metadata": {},
   "outputs": [],
   "source": [
    "df_cont"
   ]
  },
  {
   "cell_type": "code",
   "execution_count": null,
   "metadata": {},
   "outputs": [],
   "source": [
    "df_list = []\n",
    "for html in htmls:\n",
    "    df = pd.read_html(html)\n",
    "    df_cont = df[1]\n",
    "    df_cont.columns = df[0].columns\n",
    "    df_list.append(df_cont)"
   ]
  },
  {
   "cell_type": "code",
   "execution_count": null,
   "metadata": {},
   "outputs": [],
   "source": [
    "df_all = pd.concat(df_list)"
   ]
  },
  {
   "cell_type": "code",
   "execution_count": null,
   "metadata": {},
   "outputs": [],
   "source": [
    "df_all.head(3)"
   ]
  },
  {
   "cell_type": "code",
   "execution_count": null,
   "metadata": {},
   "outputs": [],
   "source": [
    "df_all.shape"
   ]
  },
  {
   "cell_type": "markdown",
   "metadata": {},
   "source": [
    "### 4. 将结果数据输出到Excel文件"
   ]
  },
  {
   "cell_type": "code",
   "execution_count": null,
   "metadata": {},
   "outputs": [],
   "source": [
    "df_all[[\"单词\", \"音标\", \"解释\"]].to_excel(\"./course_datas/c32_read_html/网易有道单词本列表.xlsx\", index=False)"
   ]
  },
  {
   "cell_type": "code",
   "execution_count": null,
   "metadata": {},
   "outputs": [],
   "source": []
  }
 ],
 "metadata": {
  "kernelspec": {
   "display_name": "Python 3",
   "language": "python",
   "name": "python3"
  },
  "language_info": {
   "codemirror_mode": {
    "name": "ipython",
    "version": 3
   },
   "file_extension": ".py",
   "mimetype": "text/x-python",
   "name": "python",
   "nbconvert_exporter": "python",
   "pygments_lexer": "ipython3",
   "version": "3.7.4"
  }
 },
 "nbformat": 4,
 "nbformat_minor": 2
}
